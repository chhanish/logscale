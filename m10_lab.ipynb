{
  "cells": [
    {
      "cell_type": "markdown",
      "metadata": {
        "id": "view-in-github",
        "colab_type": "text"
      },
      "source": [
        "<a href=\"https://colab.research.google.com/github/chhanish/logscale/blob/main/m10_lab.ipynb\" target=\"_parent\"><img src=\"https://colab.research.google.com/assets/colab-badge.svg\" alt=\"Open In Colab\"/></a>"
      ]
    },
    {
      "cell_type": "markdown",
      "metadata": {
        "id": "SgJiu5yzFdCz"
      },
      "source": [
        "# Module 10: Logscale"
      ]
    },
    {
      "cell_type": "markdown",
      "metadata": {
        "id": "45vGnK6xnq6N"
      },
      "source": [
        "<table class=\"m10-notebook-buttons\" align=\"left\">\n",
        "  <td>\n",
        "    <a target=\"_blank\" href=\"https://colab.research.google.com/github/yy/dviz-course/blob/master/m10-logscale/m10-lab.ipynb\"><img src=\"https://www.tensorflow.org/images/colab_logo_32px.png\" />Run in Google Colab</a>\n",
        "  </td>\n",
        "  <td>\n",
        "    <a href=\"https://github.com/yy/dviz-course/blob/master/m10-logscale/m10-lab.ipynb\"><img src=\"https://www.tensorflow.org/images/GitHub-Mark-32px.png\" />View on Github</a>\n",
        "  </td>\n",
        "</table>"
      ]
    },
    {
      "cell_type": "markdown",
      "metadata": {
        "id": "wTbKfP5dnq6N"
      },
      "source": [
        "# Submission instructions\n",
        "## Your final submission should contain\n",
        "\n",
        "1. A .ipynb file of the entire notebook\n",
        "2. An html file of the entire notebook (see [here](https://github.com/yy/dviz-course/wiki/How-to-export-a-notebook-in-HTML) to convert .ipynb to .html)"
      ]
    },
    {
      "cell_type": "code",
      "execution_count": null,
      "metadata": {
        "id": "NBIT7V1ZFdDE",
        "jupyter": {
          "outputs_hidden": false
        }
      },
      "outputs": [],
      "source": [
        "import matplotlib.pyplot as plt\n",
        "import pandas as pd\n",
        "import seaborn as sns\n",
        "import numpy as np\n",
        "import scipy.stats as ss\n",
        "import vega_datasets"
      ]
    },
    {
      "cell_type": "markdown",
      "metadata": {
        "id": "ajV9ZfvTFdDG"
      },
      "source": [
        "## Ratio and logarithm\n",
        "\n",
        "If you use linear scale to visualize ratios, it can be quite misleading.\n",
        "\n",
        "Let's first create some ratios."
      ]
    },
    {
      "cell_type": "code",
      "execution_count": null,
      "metadata": {
        "id": "HVPIhx7pFdDG",
        "jupyter": {
          "outputs_hidden": false
        },
        "outputId": "8b78f906-ca52-4a70-d861-103991a2512d"
      },
      "outputs": [
        {
          "name": "stdout",
          "output_type": "stream",
          "text": [
            "[1.e-03 1.e-02 1.e-01 1.e+00 1.e+01 1.e+02 1.e+03]\n"
          ]
        }
      ],
      "source": [
        "x = np.array([1,    1,   1,  1, 10, 100, 1000])\n",
        "y = np.array([1000, 100, 10, 1, 1,  1,   1   ])\n",
        "ratio = x/y\n",
        "print(ratio)"
      ]
    },
    {
      "cell_type": "markdown",
      "metadata": {
        "id": "a3WyTujgFdDL"
      },
      "source": [
        "**Q: Plot on the linear scale using the [`scatter()`](http://matplotlib.org/examples/shapes_and_collections/scatter_demo.html) function. Also draw a horizontal line at ratio=1 for a reference.**"
      ]
    },
    {
      "cell_type": "code",
      "execution_count": null,
      "metadata": {
        "id": "BrSt3CqOFdDM",
        "jupyter": {
          "outputs_hidden": false
        },
        "outputId": "523ecc60-1ae0-4e02-d6fd-1f93077354ae"
      },
      "outputs": [
        {
          "data": {
            "image/png": "[encoded data removed]",
            "text/plain": [
              "<Figure size 432x288 with 1 Axes>"
            ]
          },
          "metadata": {
            "needs_background": "light"
          },
          "output_type": "display_data"
        }
      ],
      "source": [
        "X = np.arange(len(ratio))\n",
        "\n",
        "# Implement\n",
        "plt.scatter(X,ratio)\n",
        "plt.hlines(y=1,linestyles='--',xmin=0, xmax=len(X),colors='black')\n",
        "plt.xlabel('Data Identity')\n",
        "plt.ylabel('Ratio o/p')\n",
        "plt.show()"
      ]
    },
    {
      "cell_type": "markdown",
      "metadata": {
        "id": "Nm1PVfZ1FdDN"
      },
      "source": [
        "**Q: Is this a good visualization of the ratio data? Why? Why not? Explain.**"
      ]
    },
    {
      "cell_type": "markdown",
      "metadata": {
        "id": "6QR6wPb8FdDN"
      },
      "source": [
        "## The ratios below one are incorrectly displayed, making this a poor depiction of the ratio data. Due to some ratios being below 0, the y scale is improper. Log-scale can be used to resolve this."
      ]
    },
    {
      "cell_type": "markdown",
      "metadata": {
        "id": "NX186nMlFdDO"
      },
      "source": [
        "**Q: Can you fix it?**"
      ]
    },
    {
      "cell_type": "code",
      "execution_count": null,
      "metadata": {
        "id": "LloZA8HpFdDO",
        "jupyter": {
          "outputs_hidden": false
        },
        "outputId": "4cee5af2-26b6-474f-ead9-005c8e4b9005"
      },
      "outputs": [
        {
          "data": {
            "image/png": "[encoded data removed]",
            "text/plain": [
              "<Figure size 432x288 with 1 Axes>"
            ]
          },
          "metadata": {
            "needs_background": "light"
          },
          "output_type": "display_data"
        }
      ],
      "source": [
        "# Implement\n",
        "X = np.arange(len(ratio))\n",
        "log_y = np.log10(ratio)\n",
        "plt.scatter(X,log_y)\n",
        "plt.xlabel('Data Identity')\n",
        "plt.ylabel('Ratio o/p')\n",
        "plt.show()"
      ]
    },
    {
      "cell_type": "markdown",
      "metadata": {
        "id": "YLw4Lf56FdDO"
      },
      "source": [
        "## Log-binning\n",
        "\n",
        "Let's first see what happens if we do not use the log scale for a dataset with a heavy tail.\n",
        "\n",
        "**Q: Load the movie dataset from `vega_datasets` and remove the NaN rows based on the following three columns: `IMDB_Rating`, `IMDB_Votes`, `Rotten_Tomatoes_Rating`.**"
      ]
    },
    {
      "cell_type": "code",
      "execution_count": null,
      "metadata": {
        "id": "PPhPxPDkFdDP"
      },
      "outputs": [],
      "source": [
        "# TODO: Implement the functionality mentioned above\n",
        "# The following code is just a dummy. You should load the correct dataset from vega_datasets package.\n",
        "movies = pd.DataFrame(vega_datasets.data.movies())\n"
      ]
    },
    {
      "cell_type": "markdown",
      "metadata": {
        "id": "yFKbNLzIFdDP"
      },
      "source": [
        "If you simply call `hist()` method with a dataframe object, it identifies all the numeric columns and draw a histogram for each.\n",
        "\n",
        "**Q: draw all possible histograms of the movie dataframe. Adjust the size of the plots if needed.**"
      ]
    },
    {
      "cell_type": "code",
      "execution_count": null,
      "metadata": {
        "id": "HhNb318iFdDP",
        "jupyter": {
          "outputs_hidden": false
        },
        "outputId": "7c5d1f5b-0bc1-4998-e427-98276c924982"
      },
      "outputs": [
        {
          "data": {
            "text/plain": [
              "array([[<AxesSubplot:title={'center':'US_Gross'}>,\n",
              "        <AxesSubplot:title={'center':'Worldwide_Gross'}>,\n",
              "        <AxesSubplot:title={'center':'US_DVD_Sales'}>],\n",
              "       [<AxesSubplot:title={'center':'Production_Budget'}>,\n",
              "        <AxesSubplot:title={'center':'Running_Time_min'}>,\n",
              "        <AxesSubplot:title={'center':'Rotten_Tomatoes_Rating'}>],\n",
              "       [<AxesSubplot:title={'center':'IMDB_Rating'}>,\n",
              "        <AxesSubplot:title={'center':'IMDB_Votes'}>, <AxesSubplot:>]],\n",
              "      dtype=object)"
            ]
          },
          "execution_count": 22,
          "metadata": {},
          "output_type": "execute_result"
        },
        {
          "data": {
            "image/png": "[encoded data removed]",
            "text/plain": [
              "<Figure size 1080x864 with 9 Axes>"
            ]
          },
          "metadata": {
            "needs_background": "light"
          },
          "output_type": "display_data"
        }
      ],
      "source": [
        "# Implement\n",
        "movies.hist(figsize = (15,12))"
      ]
    },
    {
      "cell_type": "markdown",
      "metadata": {
        "id": "ndkDy0fcFdDQ"
      },
      "source": [
        "As we can see, a majority of the columns are not normally distributed. In particular, if you look at the worldwide gross variable, you only see a couple of meaningful data from the histogram. Is this a problem of resolution? How about increasing the number of bins?"
      ]
    },
    {
      "cell_type": "code",
      "execution_count": null,
      "metadata": {
        "id": "78aPqskwFdDQ",
        "outputId": "25d04104-1293-4d0c-9cff-36822aa40264"
      },
      "outputs": [
        {
          "data": {
            "text/plain": [
              "Text(0, 0.5, 'Frequency')"
            ]
          },
          "execution_count": 23,
          "metadata": {},
          "output_type": "execute_result"
        },
        {
          "data": {
            "image/png": "[encoded data removed]",
            "text/plain": [
              "<Figure size 432x288 with 1 Axes>"
            ]
          },
          "metadata": {
            "needs_background": "light"
          },
          "output_type": "display_data"
        }
      ],
      "source": [
        "ax = movies[\"Worldwide_Gross\"].hist(bins=200)\n",
        "ax.set_xlabel(\"World wide gross\")\n",
        "ax.set_ylabel(\"Frequency\")"
      ]
    },
    {
      "cell_type": "markdown",
      "metadata": {
        "id": "hBwec0zvFdDQ"
      },
      "source": [
        "Maybe a bit more useful, but it doesn't tell anything about the data distribution above certain point. How about changing the vertical scale to logarithmic scale?"
      ]
    },
    {
      "cell_type": "code",
      "execution_count": null,
      "metadata": {
        "id": "h2FpYMdrFdDR",
        "outputId": "7e3800d1-ff9a-41d7-b1bc-19f909cf3638"
      },
      "outputs": [
        {
          "data": {
            "text/plain": [
              "Text(0, 0.5, 'Frequency')"
            ]
          },
          "execution_count": 24,
          "metadata": {},
          "output_type": "execute_result"
        },
        {
          "data": {
            "image/png": "[encoded data removed]",
            "text/plain": [
              "<Figure size 432x288 with 1 Axes>"
            ]
          },
          "metadata": {
            "needs_background": "light"
          },
          "output_type": "display_data"
        }
      ],
      "source": [
        "ax = movies[\"Worldwide_Gross\"].hist(bins=200)\n",
        "ax.set_yscale('log')\n",
        "ax.set_xlabel(\"World wide gross\")\n",
        "ax.set_ylabel(\"Frequency\")"
      ]
    },
    {
      "cell_type": "markdown",
      "metadata": {
        "id": "zxUO951uFdDR"
      },
      "source": [
        "Now, let's try log-bin. Recall that when plotting histgrams we can specify the edges of bins through the `bins` parameter. For example, we can specify the edges of bins to [1, 2, 3, ... , 10] as follows.\n"
      ]
    },
    {
      "cell_type": "code",
      "execution_count": null,
      "metadata": {
        "id": "ev0LG9AgFdDR",
        "jupyter": {
          "outputs_hidden": false
        },
        "outputId": "285eee3a-2c6f-4f65-bb31-c6b74a0198ee"
      },
      "outputs": [
        {
          "data": {
            "text/plain": [
              "<AxesSubplot:>"
            ]
          },
          "execution_count": 25,
          "metadata": {},
          "output_type": "execute_result"
        },
        {
          "data": {
            "image/png": "[encoded data removed]",
            "text/plain": [
              "<Figure size 432x288 with 1 Axes>"
            ]
          },
          "metadata": {
            "needs_background": "light"
          },
          "output_type": "display_data"
        }
      ],
      "source": [
        "movies[\"IMDB_Rating\"].hist(bins=range(0,11))"
      ]
    },
    {
      "cell_type": "markdown",
      "metadata": {
        "id": "yqGdymRVFdDS"
      },
      "source": [
        "Here, we can specify the edges of bins in a similar way. Instead of specifying on the linear scale, we do it on the log space. Some useful resources:\n",
        "\n",
        "* [Google query: python log-bin](https://www.google.com/webhp?sourceid=chrome-instant&ion=1&espv=2&ie=UTF-8#q=python+log-bin&pws=0)\n",
        "* [numpy.logspace](http://docs.scipy.org/doc/numpy/reference/generated/numpy.logspace.html)\n",
        "* [numpy.linspace vs numpy.logspace](http://stackoverflow.com/questions/31480033/difference-in-output-between-numpy-linspace-and-numpy-logspace)\n",
        "\n",
        "Hint: since $10^{\\text{start}} = \\text{min(Worldwide_Gross)}$, $\\text{start} = \\log_{10}(\\text{min(Worldwide_Gross)})$"
      ]
    },
    {
      "cell_type": "code",
      "execution_count": null,
      "metadata": {
        "id": "DhrElVC1FdDS",
        "outputId": "68e35f9c-f653-4968-d859-c5802b011ebc"
      },
      "outputs": [
        {
          "data": {
            "text/plain": [
              "0.0"
            ]
          },
          "execution_count": 26,
          "metadata": {},
          "output_type": "execute_result"
        }
      ],
      "source": [
        "min(movies[\"Worldwide_Gross\"])"
      ]
    },
    {
      "cell_type": "markdown",
      "metadata": {
        "id": "syjfeVu4FdDS"
      },
      "source": [
        "Because there seems to be movie(s) that made $0, and because log(0) is undefined & log(1) = 0, let's add 1 to the variable.  "
      ]
    },
    {
      "cell_type": "code",
      "execution_count": null,
      "metadata": {
        "id": "ENVL7YZrFdDT"
      },
      "outputs": [],
      "source": [
        "movies[\"Worldwide_Gross\"] = movies[\"Worldwide_Gross\"]+1.0"
      ]
    },
    {
      "cell_type": "code",
      "execution_count": null,
      "metadata": {
        "id": "OjHiC3_-FdDT",
        "outputId": "779b390c-9a02-4337-c540-ca85776549a7"
      },
      "outputs": [
        {
          "data": {
            "text/plain": [
              "array([1.00000000e+00, 3.14018485e+00, 9.86076088e+00, 3.09646119e+01,\n",
              "       9.72346052e+01, 3.05334634e+02, 9.58807191e+02, 3.01083182e+03,\n",
              "       9.45456845e+03, 2.96890926e+04, 9.32292387e+04, 2.92757043e+05,\n",
              "       9.19311230e+05, 2.88680720e+06, 9.06510822e+06, 2.84661155e+07,\n",
              "       8.93888645e+07, 2.80697558e+08, 8.81442219e+08, 2.76789150e+09])"
            ]
          },
          "execution_count": 28,
          "metadata": {},
          "output_type": "execute_result"
        }
      ],
      "source": [
        "# TODO: Replace the dummy value of bins using np.logspace.\n",
        "# Create 20 bins that cover the whole range of the dataset.\n",
        "start = np.log10(min(movies[\"Worldwide_Gross\"]))\n",
        "stop = np.log10(max(movies[\"Worldwide_Gross\"]))\n",
        "bins = np.logspace(start,stop,num=20)\n",
        "bins"
      ]
    },
    {
      "cell_type": "markdown",
      "metadata": {
        "id": "2MoKtVlnFdDT"
      },
      "source": [
        "Now we can plot a histgram with log-bin. Set both axis to be log-scale."
      ]
    },
    {
      "cell_type": "code",
      "execution_count": null,
      "metadata": {
        "id": "TemQE6UBFdDU",
        "jupyter": {
          "outputs_hidden": false
        },
        "outputId": "d40f0704-4fe9-4f60-a009-bb19484a86c0"
      },
      "outputs": [
        {
          "data": {
            "text/plain": [
              "Text(0, 0.5, 'Frequency')"
            ]
          },
          "execution_count": 29,
          "metadata": {},
          "output_type": "execute_result"
        },
        {
          "data": {
            "image/png": "[encoded data removed]",
            "text/plain": [
              "<Figure size 432x288 with 1 Axes>"
            ]
          },
          "metadata": {
            "needs_background": "light"
          },
          "output_type": "display_data"
        }
      ],
      "source": [
        "ax = (movies[\"Worldwide_Gross\"]+1.0).hist(bins=bins)\n",
        "ax.set_yscale('log')\n",
        "ax.set_xscale('log')\n",
        "ax.set_xlabel(\"World wide gross\")\n",
        "ax.set_ylabel(\"Frequency\")"
      ]
    },
    {
      "cell_type": "markdown",
      "metadata": {
        "id": "pJZ-2b3sFdDU"
      },
      "source": [
        "What is going on? Is this the right plot?\n",
        "\n",
        "**Q: explain and fix**"
      ]
    },
    {
      "cell_type": "code",
      "execution_count": null,
      "metadata": {
        "id": "sUp01d71FdDU",
        "jupyter": {
          "outputs_hidden": false
        },
        "outputId": "51137617-ec14-45ec-d965-d02bba69922c"
      },
      "outputs": [
        {
          "data": {
            "text/plain": [
              "Text(0, 0.5, 'Frequency')"
            ]
          },
          "execution_count": 30,
          "metadata": {},
          "output_type": "execute_result"
        },
        {
          "data": {
            "image/png": "[encoded data removed]",
            "text/plain": [
              "<Figure size 432x288 with 1 Axes>"
            ]
          },
          "metadata": {
            "needs_background": "light"
          },
          "output_type": "display_data"
        }
      ],
      "source": [
        "# Implement\n",
        "ax = (movies[\"Worldwide_Gross\"]+1.0).hist(bins=bins,density = True)\n",
        "ax.set_yscale('log')\n",
        "ax.set_xscale('log')\n",
        "ax.set_xlabel(\"World wide gross\")\n",
        "ax.set_ylabel(\"Frequency\")"
      ]
    },
    {
      "cell_type": "markdown",
      "metadata": {
        "id": "IqrM7ufNFdDU"
      },
      "source": [
        "**Q: Can you explain the plot? Why are there gaps?**"
      ]
    },
    {
      "cell_type": "markdown",
      "metadata": {
        "id": "bqFunZ08FdDV"
      },
      "source": [
        "## There were just a few films whose global box office total was $0, which was represented by 1 as log(0) is undefined. There are no movies in the first bar till the second bar. The plot holes are all the places where there aren't any movies with that specific international gross."
      ]
    },
    {
      "cell_type": "markdown",
      "metadata": {
        "id": "2w70ZBBFFdDV"
      },
      "source": [
        "## CCDF\n",
        "\n",
        "CCDF is a nice alternative to examine distributions with heavy tails. The idea is same as CDF, but the direction of aggregation is opposite. For a given value x, CCDF(x) is the number (fraction) of data points that are same or larger than x. To write code to draw CCDF, it'll be helpful to draw it by hand by using a very small, toy dataset. Draw it by hand and then think about how each point in the CCDF plot can be computed.\n",
        "\n",
        "**Q: Draw a CCDF of worldwide gross data in log-log scale**"
      ]
    },
    {
      "cell_type": "code",
      "execution_count": null,
      "metadata": {
        "id": "bjgKDyA4FdDV",
        "outputId": "b06e242e-a2c0-49f7-b4c5-5202ffedc5da"
      },
      "outputs": [
        {
          "data": {
            "image/png": "[encoded data removed]",
            "text/plain": [
              "<Figure size 432x288 with 1 Axes>"
            ]
          },
          "metadata": {
            "needs_background": "light"
          },
          "output_type": "display_data"
        }
      ],
      "source": [
        "# TODO: Implement functionality mentioned above\n",
        "# You must replace the dummy values with the correct code.\n",
        "worldgross_sorted = movies.Worldwide_Gross.sort_values().tolist()\n",
        "Y = []\n",
        "for i in worldgross_sorted:\n",
        "    intial = 0\n",
        "    for j in worldgross_sorted:\n",
        "        if j>=i:intial=intial+1\n",
        "    Y.append(intial)\n",
        "for i in range(0,len(Y)): Y[i] = Y[i]/len(worldgross_sorted)\n",
        "plt.xlabel(\"World wide gross\")\n",
        "plt.ylabel(\"CCDF\")\n",
        "plt.plot(worldgross_sorted,Y)\n",
        "plt.yscale('log')\n",
        "plt.xscale('log')"
      ]
    },
    {
      "cell_type": "markdown",
      "metadata": {
        "id": "ODq6ng4nFdDV"
      },
      "source": [
        "We can also try in semilog scale (only one axis is in a log-scale), where the horizontal axis is linear."
      ]
    },
    {
      "cell_type": "code",
      "execution_count": null,
      "metadata": {
        "id": "IWO1Rr3QFdDW",
        "outputId": "6784cca4-64f4-45c4-b68e-e8de690f6422"
      },
      "outputs": [
        {
          "data": {
            "image/png": "[encoded data removed]",
            "text/plain": [
              "<Figure size 432x288 with 1 Axes>"
            ]
          },
          "metadata": {
            "needs_background": "light",
            "tags": []
          },
          "output_type": "display_data"
        }
      ],
      "source": [
        "plt.xlabel(\"World wide gross\")\n",
        "plt.ylabel(\"CCDF\")\n",
        "plt.plot(worldgross_sorted,Y)\n",
        "plt.yscale('log')"
      ]
    },
    {
      "cell_type": "markdown",
      "metadata": {
        "id": "KsJNpR2iFdDW"
      },
      "source": [
        "A straight line in semilog scale means exponential decay (cf. a straight line in log-log scale means power-law decay). So it seems like the amount of money a movie makes across the world follows *roughly* an exponential distribution, while there are some outliers that make insane amount of money.\n",
        "\n",
        "**Q: Which is the most successful movie in our dataset?**\n",
        "\n",
        "You can use the following\n",
        "\n",
        "- `idxmax()`: https://pandas.pydata.org/pandas-docs/stable/generated/pandas.DataFrame.idxmax.html\n",
        "- `loc`: https://pandas.pydata.org/pandas-docs/stable/generated/pandas.DataFrame.loc.html"
      ]
    },
    {
      "cell_type": "code",
      "execution_count": null,
      "metadata": {
        "id": "31LoBnxvFdDW",
        "outputId": "cd65c18e-168e-4168-8393-ff07aa3f89f2"
      },
      "outputs": [
        {
          "data": {
            "text/plain": [
              "Title                                  Avatar\n",
              "US_Gross                          760167650.0\n",
              "Worldwide_Gross                  2767891500.0\n",
              "US_DVD_Sales                      146153933.0\n",
              "Production_Budget                 237000000.0\n",
              "Release_Date                      Dec 18 2009\n",
              "MPAA_Rating                             PG-13\n",
              "Running_Time_min                          NaN\n",
              "Distributor                  20th Century Fox\n",
              "Source                    Original Screenplay\n",
              "Major_Genre                            Action\n",
              "Creative_Type                 Science Fiction\n",
              "Director                        James Cameron\n",
              "Rotten_Tomatoes_Rating                   83.0\n",
              "IMDB_Rating                               8.3\n",
              "IMDB_Votes                           261439.0\n",
              "Name: 1234, dtype: object"
            ]
          },
          "execution_count": 37,
          "metadata": {},
          "output_type": "execute_result"
        }
      ],
      "source": [
        "# Implement\n",
        "movies.loc[movies['Worldwide_Gross'].idxmax()]"
      ]
    },
    {
      "cell_type": "markdown",
      "metadata": {
        "id": "eRh9820HFdDX"
      },
      "source": [
        "## As we can see avatar is the best movie"
      ]
    },
    {
      "cell_type": "code",
      "execution_count": null,
      "metadata": {
        "id": "uH-6PFoHnq6W"
      },
      "outputs": [],
      "source": []
    }
  ],
  "metadata": {
    "anaconda-cloud": {},
    "colab": {
      "provenance": [],
      "include_colab_link": true
    },
    "kernel_info": {
      "name": "python3"
    },
    "kernelspec": {
      "display_name": "Python 3",
      "language": "python",
      "name": "python3"
    },
    "language_info": {
      "codemirror_mode": {
        "name": "ipython",
        "version": 3
      },
      "file_extension": ".py",
      "mimetype": "text/x-python",
      "name": "python",
      "nbconvert_exporter": "python",
      "pygments_lexer": "ipython3",
      "version": "3.8.8"
    },
    "nteract": {
      "version": "0.23.3"
    },
    "vscode": {
      "interpreter": {
        "hash": "31f2aee4e71d21fbe5cf8b01ff0e069b9275f58929596ceb00d14d90e3e16cd6"
      }
    }
  },
  "nbformat": 4,
  "nbformat_minor": 0
}